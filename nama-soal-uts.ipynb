{
 "cells": [
  {
   "cell_type": "markdown",
   "id": "e2ca7d7c",
   "metadata": {},
   "source": [
    "# Ujian Tengah Semester Ganjil Robotika dan AI 2025\n",
    "\n",
    "Catatan:\n",
    "\n",
    "*Jawablah pertanyaan dengan baik dan dikumpulkan pada:* \n",
    "[KUMPUL UTS](https://forms.gle/bhScAfvDihZieBBP8)\n",
    "\n",
    "*Apabila secara keseluruhan hasil AI maka nilai akan dikurangi*"
   ]
  },
  {
   "cell_type": "markdown",
   "id": "bb895b88",
   "metadata": {},
   "source": [
    "# Halaman Soal"
   ]
  },
  {
   "cell_type": "markdown",
   "id": "1841eee2",
   "metadata": {},
   "source": [
    "1. Apa yang anda ketahui tentang algoritma dan logika. Apa hubungannya? Buat satu contoh algoritma yang ada hubungannya tentang Komputer."
   ]
  },
  {
   "cell_type": "code",
   "execution_count": null,
   "id": "65afd6aa",
   "metadata": {},
   "outputs": [],
   "source": [
    "# Jawaban dalam bentuk comment python:"
   ]
  },
  {
   "cell_type": "markdown",
   "id": "028e81ba",
   "metadata": {},
   "source": [
    "2. Buatlah program Python yang meminta pengguna memasukkan nama dan umur, lalu menampilkan kalimat seperti contoh berikut:\n",
    "\n",
    "```\n",
    "Masukkan nama Anda: Mahasiswa\n",
    "Masukkan NIM Anda: 6002201014\n",
    "Masukkan umur Anda: 21\n",
    "\n",
    "Halo Mahasiswa NIM 6002201014, umur Anda 21 tahun.\n",
    "```"
   ]
  },
  {
   "cell_type": "code",
   "execution_count": null,
   "id": "523c1b80",
   "metadata": {},
   "outputs": [],
   "source": []
  },
  {
   "cell_type": "markdown",
   "id": "e5bdd433",
   "metadata": {},
   "source": [
    "3. Perhatikan potongan kode berikut:"
   ]
  },
  {
   "cell_type": "code",
   "execution_count": null,
   "id": "64b58c0a",
   "metadata": {},
   "outputs": [],
   "source": [
    "a = input(\"Masukkan nilai= \")\n",
    "b = 9\n",
    "c = a + b\n",
    "print(c)"
   ]
  },
  {
   "cell_type": "markdown",
   "id": "e12d8539",
   "metadata": {},
   "source": [
    "a) Run kode di atas Jika inputan 6, Jelaskan yang terjadi setelah program dijalankan.\n",
    "\n",
    "b) Tuliskan versi kode yang benar agar menghasilkan output 15."
   ]
  },
  {
   "cell_type": "code",
   "execution_count": null,
   "id": "714a1a7f",
   "metadata": {},
   "outputs": [],
   "source": [
    "# Jawaban Bagian a). Jawab dalam bentuk comment python\n"
   ]
  },
  {
   "cell_type": "code",
   "execution_count": null,
   "id": "2c944620",
   "metadata": {},
   "outputs": [],
   "source": [
    "# Jawaban Bagian b).\n"
   ]
  },
  {
   "cell_type": "markdown",
   "id": "b7c80f3f",
   "metadata": {},
   "source": [
    "4. Soal dibawah dijawab sebagai comment di samping syntax"
   ]
  },
  {
   "cell_type": "code",
   "execution_count": null,
   "id": "a42307ee",
   "metadata": {},
   "outputs": [
    {
     "name": "stdout",
     "output_type": "stream",
     "text": [
      "1\n",
      "False\n"
     ]
    }
   ],
   "source": [
    "var = 17             # input dengan ujung nim anda baris ini\n",
    "\n",
    "var  += 10             # arti syntax: \n",
    "var  -= 4              # arti syntax: \n",
    "var //= 5              # arti syntax: \n",
    "var  %= 3              # arti syntax: \n",
    "var **= 2              # arti syntax:         \n",
    "var   = var < var**2   # arti syntax dan hasil outputnya: \n",
    "print(var)             \n"
   ]
  },
  {
   "cell_type": "markdown",
   "id": "0fb6463c",
   "metadata": {},
   "source": [
    "5. Anda memiliki fungsi matematika: $f(x) = x^2-x+1 $. Buatkan program untuk mengetahui 4 nilai fungsi seperti berikut. \n",
    "\n",
    "Contoh output:\n",
    "```\n",
    "pada x=1 nilai fungsi adalah: 1\n",
    "pada x=1.5 nilai fungsi adalah: 1.75\n",
    "pada x=2 nilai fungsi adalah: 3\n",
    "pada x=2.5 nilai fungsi adalah: 4.75\n",
    "```"
   ]
  },
  {
   "cell_type": "code",
   "execution_count": null,
   "id": "cfb6297a",
   "metadata": {},
   "outputs": [],
   "source": [
    "\n",
    "x1 =\n",
    "fun1 = \n",
    "print(f'pada x={x1} nilai fungsi adalah: {fun1}')\n",
    "\n",
    "x2 =\n",
    "fun2 = \n",
    "print(f'pada x={x2} nilai fungsi adalah: {fun2}')\n",
    "\n",
    "x3 =\n",
    "fun3 = \n",
    "print(f'pada x={x3} nilai fungsi adalah: {fun3}')\n",
    "\n",
    "x4 =\n",
    "fun4 = \n",
    "print(f'pada x={x4} nilai fungsi adalah: {fun4}')\n"
   ]
  },
  {
   "cell_type": "markdown",
   "id": "3e019c37",
   "metadata": {},
   "source": [
    "6. Tuliskan program Python yang meminta satu bilangan bulat, kemudian cek apakah bilangan ganjil? output harus seperti berikut:\n",
    "\n",
    "```\n",
    "Masukkan Bilangan Genap: 5\n",
    "Pengecekan bilangan 5 merupakan ganjil adalah True\n",
    "```"
   ]
  },
  {
   "cell_type": "code",
   "execution_count": null,
   "id": "51340ea7",
   "metadata": {},
   "outputs": [],
   "source": []
  },
  {
   "cell_type": "markdown",
   "id": "59e2ce79",
   "metadata": {},
   "source": [
    "7. Buat program yang meminta inputan bilangan riil untuk rentang berikut. Apabila pada rentang yang benar maka mengembalikan True jika salah maka False.\n",
    "\n",
    "$x< -8$ atau $-4 < x < -2$ atau $0 < x < 3$\n",
    "```\n",
    "contoh jika:\n",
    "Masukkan nilai pada rentang yang benar: 7\n",
    "Hasil Inputan: False\n",
    "\n",
    "contoh jika:\n",
    "Masukkan nilai pada rentang yang benar: 2\n",
    "Hasil Inputan: True\n",
    "\n",
    "```"
   ]
  },
  {
   "cell_type": "code",
   "execution_count": null,
   "id": "c4b90b5f",
   "metadata": {},
   "outputs": [],
   "source": []
  },
  {
   "cell_type": "markdown",
   "id": "be248d9a",
   "metadata": {},
   "source": [
    "8. Diberikan:\n",
    "```\n",
    "teks = \"   KuliAh&&-PemrOgrAman&&PythoN&&itu&&sEru^#dAN**menyEnangkaN!   \"\n",
    "```\n",
    "Tuliskan kode untuk:\n",
    "\n",
    "a) Menghapus spasi di awal dan akhir serta membuat kalimatnya menjadi benar\n",
    "\n",
    "b) Mengubah setiap huruf pertama pada kata menjadi huruf besar.\n",
    "\n",
    "c) Menghitung berapa kali huruf n muncul dalam string `teks`.\n"
   ]
  },
  {
   "cell_type": "code",
   "execution_count": null,
   "id": "a7dc09ef",
   "metadata": {},
   "outputs": [],
   "source": []
  },
  {
   "cell_type": "code",
   "execution_count": null,
   "id": "381f1a51",
   "metadata": {},
   "outputs": [],
   "source": []
  },
  {
   "cell_type": "code",
   "execution_count": null,
   "id": "dbe4f01f",
   "metadata": {},
   "outputs": [],
   "source": []
  },
  {
   "cell_type": "markdown",
   "id": "f7d375af",
   "metadata": {},
   "source": [
    "9. Anda memiliki list:\n",
    "```\n",
    "angka = [5, 10, 15, 20, 14, 2, 4, 12, 11, 9]\n",
    "```\n",
    "Tuliskan kode untuk:\n",
    "\n",
    "a) Menambahkan elemen `25` ke akhir list dan di antara `10` dan `15`.\n",
    "\n",
    "b) Menghapus elemen `10`.\n",
    "\n",
    "c) Menampilkan elemen pertama dan terakhir.\n",
    "\n",
    "d) Hitung nilai rata-rata data `angka`"
   ]
  },
  {
   "cell_type": "code",
   "execution_count": null,
   "id": "7129751f",
   "metadata": {},
   "outputs": [],
   "source": []
  },
  {
   "cell_type": "code",
   "execution_count": null,
   "id": "90771617",
   "metadata": {},
   "outputs": [],
   "source": []
  },
  {
   "cell_type": "code",
   "execution_count": null,
   "id": "9a639672",
   "metadata": {},
   "outputs": [],
   "source": []
  },
  {
   "cell_type": "code",
   "execution_count": null,
   "id": "1d25bb1a",
   "metadata": {},
   "outputs": [],
   "source": []
  },
  {
   "cell_type": "markdown",
   "id": "59e374a6",
   "metadata": {},
   "source": [
    "10. Perhatikan dictionary berikut:\n",
    "``` \n",
    "data = {\n",
    "  \"Bio\" : {\n",
    "                \"nama\"  : \"Nama Lengkap\",\n",
    "                \"NIM\"   : 6002201014,\n",
    "                \"Prodi\" : \"Matematika\",\n",
    "                \"tahun\" : 2025\n",
    "            },\n",
    "  \"Matakuliah\" : {\n",
    "                \"mk\"    : ['Kalkulus','PTI','PP','PKN','Agama','CINTA'],\n",
    "                \"nilai\" : [91,89,90,90,91,94]\n",
    "            }\n",
    "}\n",
    "```\n",
    "Buatkan program yang memberikan Ouput:\n",
    "```\n",
    "Nama Mahasiswa  : Nama Lengkap\n",
    "Prodi           : Matematika - 2025\n",
    "NIM             : 6002201014\n",
    "\n",
    "\n",
    "Nilai Matakuliah Tertinggi adalah   : CINTA dengan nilai 94\n",
    "Nilai Matakuliah Terendah adalah    : PTI dengan nilai 89\n",
    "\n",
    "Nilai rata-rata matakuliah adalah: 90.83333333333333\n",
    "\n",
    "```"
   ]
  },
  {
   "cell_type": "code",
   "execution_count": null,
   "id": "9c83afd1",
   "metadata": {},
   "outputs": [],
   "source": []
  }
 ],
 "metadata": {
  "kernelspec": {
   "display_name": "base",
   "language": "python",
   "name": "python3"
  },
  "language_info": {
   "codemirror_mode": {
    "name": "ipython",
    "version": 3
   },
   "file_extension": ".py",
   "mimetype": "text/x-python",
   "name": "python",
   "nbconvert_exporter": "python",
   "pygments_lexer": "ipython3",
   "version": "3.9.12"
  }
 },
 "nbformat": 4,
 "nbformat_minor": 5
}
