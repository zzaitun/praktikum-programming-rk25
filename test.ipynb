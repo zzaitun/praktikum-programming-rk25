{
 "cells": [
  {
   "cell_type": "code",
   "execution_count": null,
   "id": "d59f2f3c",
   "metadata": {},
   "outputs": [],
   "source": [
    "print('''Kuliah\n",
    "\n",
    "Pertama''')"
   ]
  },
  {
   "cell_type": "code",
   "execution_count": null,
   "id": "bb2d48dd",
   "metadata": {},
   "outputs": [],
   "source": [
    "print('kuliah\\n\\n')\n",
    "print('pertama')"
   ]
  },
  {
   "cell_type": "code",
   "execution_count": null,
   "id": "ec0d6f0f",
   "metadata": {},
   "outputs": [],
   "source": [
    "print('pengantar\\rpemrograman')"
   ]
  },
  {
   "cell_type": "code",
   "execution_count": null,
   "id": "c0bbcfd0",
   "metadata": {},
   "outputs": [],
   "source": [
    "print('KULIAH\\r5')"
   ]
  },
  {
   "cell_type": "code",
   "execution_count": null,
   "id": "d82952d9",
   "metadata": {},
   "outputs": [],
   "source": [
    "print('\\104\\165\\156\\151\\141')"
   ]
  },
  {
   "cell_type": "code",
   "execution_count": null,
   "id": "aede23c8",
   "metadata": {},
   "outputs": [],
   "source": [
    "listed = [2,3,6,4,1,2,4,3,2,1,4]\n",
    "print(listed)\n",
    "\n",
    "listed.sort()\n",
    "print(listed)\n",
    "\n",
    "listed.reverse()\n",
    "print(listed)\n"
   ]
  },
  {
   "cell_type": "code",
   "execution_count": null,
   "id": "9ae3ae09",
   "metadata": {},
   "outputs": [],
   "source": [
    "listed = [2,3,6,4,1,2,4,3,2,1,4]\n",
    "print(listed)\n",
    "\n",
    "listed.sort(reverse=True)\n",
    "print(listed)\n"
   ]
  },
  {
   "cell_type": "code",
   "execution_count": null,
   "id": "0e2ef566",
   "metadata": {},
   "outputs": [],
   "source": [
    "listed = ['pema','ursa','ulon','azula']\n",
    "number = [1,2,3,4]\n",
    "listed.extend(number)\n",
    "print(listed)\n",
    "\n",
    "listed.sort()\n",
    "print(listed)\n"
   ]
  },
  {
   "cell_type": "code",
   "execution_count": null,
   "id": "871aa1d7",
   "metadata": {},
   "outputs": [
    {
     "name": "stdout",
     "output_type": "stream",
     "text": [
      "Nama: Von Neumann\n",
      "angkatan: 2023\n",
      "status: Aktif\n"
     ]
    }
   ],
   "source": [
    "data = ['Von Neumann',2023,'Aktif']\n",
    "nilai= [90,89,93,97]\n",
    "\n",
    "print('Nama: '+ data[0]) # Nama: Von Neumann\n",
    "print('angkatan:', data[1]) #angkatan 2023\n",
    "print('status: '+ data[2]) #status: Aktif\n",
    "\n",
    " Von Neumann status Kuliah: Aktif\n",
    " Data terbesar nilai adalah: 97\n",
    " Data terkecil nilai adalah: 89\n",
    " Rata-rata nilai adalah: 92.25"
   ]
  },
  {
   "cell_type": "code",
   "execution_count": 15,
   "id": "18119967",
   "metadata": {},
   "outputs": [
    {
     "name": "stdout",
     "output_type": "stream",
     "text": [
      "Von Neumann status Kuliah: Aktif\n",
      "Data terbesar nilai adalah: 97\n",
      "Data terkecil nilai adalah: 89\n",
      "Rata-rata nilai adalah: 92.25\n"
     ]
    }
   ],
   "source": [
    "print(f\"{data[0]} status Kuliah: {data[-1]}\")\n",
    "print(f\"Data terbesar nilai adalah: {max(nilai)}\")\n",
    "print(f\"Data terkecil nilai adalah: {min(nilai)}\")\n",
    "print(f\"Rata-rata nilai adalah: {sum(nilai)/len(nilai)}\")"
   ]
  },
  {
   "cell_type": "code",
   "execution_count": null,
   "id": "3880ea57",
   "metadata": {},
   "outputs": [
    {
     "data": {
      "text/plain": [
       "'Program pendidikan Thomas: S1-Reguler\\n Angkatan : 2023-Ganjil \\n Jumlah nilai Thomas adalah: 4\\n Data terbesar Thomas adalah: 97\\n Data terkecil Thomas adalah: 89\\n Rata-rata nilai Thomas adalah: 92.25'"
      ]
     },
     "execution_count": 17,
     "metadata": {},
     "output_type": "execute_result"
    }
   ],
   "source": [
    "data = [\n",
    "        ('Thomas',2023,'Aktif'),\n",
    "        (90,89,93,97),\n",
    "        (20,22),\n",
    "        ('S1-Reguler','Ganjil')\n",
    "        ]\n",
    "\n",
    "\"\"\"Program pendidikan Thomas: S1-Reguler\n",
    " Angkatan : 2023-Ganjil \n",
    " Jumlah nilai Thomas adalah: 4\n",
    " Data terbesar Thomas adalah: 97\n",
    " Data terkecil Thomas adalah: 89\n",
    " Rata-rata nilai Thomas adalah: 92.25\"\"\""
   ]
  },
  {
   "cell_type": "code",
   "execution_count": 23,
   "id": "36444a31",
   "metadata": {},
   "outputs": [
    {
     "name": "stdout",
     "output_type": "stream",
     "text": [
      "Program pendidikan Thomas: S1-Reguler\n",
      "Angkatan : 2023-Aktif\n",
      " Jumlah nilai Thomas adalah: 4\n",
      "Data terbesar Thomas adalah: 97\n",
      "Data terkecil Thomas adalah: 89\n",
      "Rata-rata nilai Thomas adalah: 92.25\n"
     ]
    }
   ],
   "source": [
    "print(f\"Program pendidikan {data[0][0]}: {data[-1][0]}\")\n",
    "print(f\"Angkatan : {data[0][1]}-{data[0][-1]}\")\n",
    "print(f\" Jumlah nilai {data[0][0]} adalah: {len(data[1])}\")\n",
    "print(f\"Data terbesar {data[0][0]} adalah: {max(data[1])}\")\n",
    "print(f\"Data terkecil {data[0][0]} adalah: {min(data[1])}\")\n",
    "print(f\"Rata-rata nilai {data[0][0]} adalah: {sum(data[1])/len(data[1])}\")"
   ]
  }
 ],
 "metadata": {
  "kernelspec": {
   "display_name": "base",
   "language": "python",
   "name": "python3"
  },
  "language_info": {
   "codemirror_mode": {
    "name": "ipython",
    "version": 3
   },
   "file_extension": ".py",
   "mimetype": "text/x-python",
   "name": "python",
   "nbconvert_exporter": "python",
   "pygments_lexer": "ipython3",
   "version": "3.9.12"
  }
 },
 "nbformat": 4,
 "nbformat_minor": 5
}
