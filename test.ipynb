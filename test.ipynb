{
 "cells": [
  {
   "cell_type": "code",
   "execution_count": null,
   "id": "d59f2f3c",
   "metadata": {},
   "outputs": [],
   "source": [
    "print('''Kuliah\n",
    "\n",
    "Pertama''')"
   ]
  },
  {
   "cell_type": "code",
   "execution_count": null,
   "id": "bb2d48dd",
   "metadata": {},
   "outputs": [],
   "source": [
    "print('kuliah\\n\\n')\n",
    "print('pertama')"
   ]
  },
  {
   "cell_type": "code",
   "execution_count": null,
   "id": "ec0d6f0f",
   "metadata": {},
   "outputs": [],
   "source": [
    "print('pengantar\\rpemrograman')"
   ]
  },
  {
   "cell_type": "code",
   "execution_count": null,
   "id": "c0bbcfd0",
   "metadata": {},
   "outputs": [],
   "source": [
    "print('KULIAH\\r5')"
   ]
  },
  {
   "cell_type": "code",
   "execution_count": null,
   "id": "d82952d9",
   "metadata": {},
   "outputs": [],
   "source": [
    "print('\\104\\165\\156\\151\\141')"
   ]
  },
  {
   "cell_type": "code",
   "execution_count": null,
   "id": "aede23c8",
   "metadata": {},
   "outputs": [],
   "source": [
    "listed = [2,3,6,4,1,2,4,3,2,1,4]\n",
    "print(listed)\n",
    "\n",
    "listed.sort()\n",
    "print(listed)\n",
    "\n",
    "listed.reverse()\n",
    "print(listed)\n"
   ]
  },
  {
   "cell_type": "code",
   "execution_count": null,
   "id": "9ae3ae09",
   "metadata": {},
   "outputs": [],
   "source": [
    "listed = [2,3,6,4,1,2,4,3,2,1,4]\n",
    "print(listed)\n",
    "\n",
    "listed.sort(reverse=True)\n",
    "print(listed)\n"
   ]
  },
  {
   "cell_type": "code",
   "execution_count": null,
   "id": "0e2ef566",
   "metadata": {},
   "outputs": [],
   "source": [
    "listed = ['pema','ursa','ulon','azula']\n",
    "number = [1,2,3,4]\n",
    "listed.extend(number)\n",
    "print(listed)\n",
    "\n",
    "listed.sort()\n",
    "print(listed)\n"
   ]
  },
  {
   "cell_type": "code",
   "execution_count": null,
   "id": "871aa1d7",
   "metadata": {},
   "outputs": [
    {
     "name": "stdout",
     "output_type": "stream",
     "text": [
      "Nama: Von Neumann\n",
      "angkatan: 2023\n",
      "status: Aktif\n"
     ]
    }
   ],
   "source": [
    "data = ['Von Neumann',2023,'Aktif']\n",
    "nilai= [90,89,93,97]\n",
    "\n",
    "print('Nama: '+ data[0]) # Nama: Von Neumann\n",
    "print('angkatan:', data[1]) #angkatan 2023\n",
    "print('status: '+ data[2]) #status: Aktif\n",
    "\n",
    " Von Neumann status Kuliah: Aktif\n",
    " Data terbesar nilai adalah: 97\n",
    " Data terkecil nilai adalah: 89\n",
    " Rata-rata nilai adalah: 92.25"
   ]
  },
  {
   "cell_type": "code",
   "execution_count": null,
   "id": "18119967",
   "metadata": {},
   "outputs": [
    {
     "name": "stdout",
     "output_type": "stream",
     "text": [
      "Von Neumann status Kuliah: Aktif\n",
      "Data terbesar nilai adalah: 97\n",
      "Data terkecil nilai adalah: 89\n"
     ]
    },
    {
     "ename": "TypeError",
     "evalue": "unsupported operand type(s) for +: 'int' and 'str'",
     "output_type": "error",
     "traceback": [
      "\u001b[0;31m---------------------------------------------------------------------------\u001b[0m",
      "\u001b[0;31mTypeError\u001b[0m                                 Traceback (most recent call last)",
      "Input \u001b[0;32mIn [14]\u001b[0m, in \u001b[0;36m<cell line: 4>\u001b[0;34m()\u001b[0m\n\u001b[1;32m      2\u001b[0m \u001b[38;5;28mprint\u001b[39m(\u001b[38;5;124mf\u001b[39m\u001b[38;5;124m\"\u001b[39m\u001b[38;5;124mData terbesar nilai adalah: \u001b[39m\u001b[38;5;132;01m{\u001b[39;00m\u001b[38;5;28mmax\u001b[39m(nilai)\u001b[38;5;132;01m}\u001b[39;00m\u001b[38;5;124m\"\u001b[39m)\n\u001b[1;32m      3\u001b[0m \u001b[38;5;28mprint\u001b[39m(\u001b[38;5;124mf\u001b[39m\u001b[38;5;124m\"\u001b[39m\u001b[38;5;124mData terkecil nilai adalah: \u001b[39m\u001b[38;5;132;01m{\u001b[39;00m\u001b[38;5;28mmin\u001b[39m(nilai)\u001b[38;5;132;01m}\u001b[39;00m\u001b[38;5;124m\"\u001b[39m)\n\u001b[0;32m----> 4\u001b[0m \u001b[38;5;28mprint\u001b[39m(\u001b[38;5;124mf\u001b[39m\u001b[38;5;124m\"\u001b[39m\u001b[38;5;124mRata-rata nilai adalah: \u001b[39m\u001b[38;5;132;01m{\u001b[39;00m\u001b[38;5;28msum\u001b[39m(data)\u001b[38;5;241m/\u001b[39m\u001b[38;5;28mlen\u001b[39m(data)\u001b[38;5;132;01m}\u001b[39;00m\u001b[38;5;124m\"\u001b[39m)\n",
      "\u001b[0;31mTypeError\u001b[0m: unsupported operand type(s) for +: 'int' and 'str'"
     ]
    }
   ],
   "source": [
    "print(f\"{data[0]} status Kuliah: {data[-1]}\")\n",
    "print(f\"Data terbesar nilai adalah: {max(nilai)}\")\n",
    "print(f\"Data terkecil nilai adalah: {min(nilai)}\")\n",
    "print(f\"Rata-rata nilai adalah: {sum(nilai)/len(nilai)}\")"
   ]
  }
 ],
 "metadata": {
  "kernelspec": {
   "display_name": "base",
   "language": "python",
   "name": "python3"
  },
  "language_info": {
   "codemirror_mode": {
    "name": "ipython",
    "version": 3
   },
   "file_extension": ".py",
   "mimetype": "text/x-python",
   "name": "python",
   "nbconvert_exporter": "python",
   "pygments_lexer": "ipython3",
   "version": "3.9.12"
  }
 },
 "nbformat": 4,
 "nbformat_minor": 5
}
