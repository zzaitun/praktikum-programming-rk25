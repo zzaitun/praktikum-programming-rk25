{
 "cells": [
  {
   "cell_type": "code",
   "execution_count": 3,
   "id": "d59f2f3c",
   "metadata": {},
   "outputs": [
    {
     "name": "stdout",
     "output_type": "stream",
     "text": [
      "Kuliah\n",
      "\n",
      "Pertama\n"
     ]
    }
   ],
   "source": [
    "print('''Kuliah\n",
    "\n",
    "Pertama''')"
   ]
  },
  {
   "cell_type": "code",
   "execution_count": null,
   "id": "bb2d48dd",
   "metadata": {},
   "outputs": [
    {
     "name": "stdout",
     "output_type": "stream",
     "text": [
      "kuliah\n",
      "\n",
      "\n",
      "pertama\n"
     ]
    }
   ],
   "source": [
    "print('kuliah\\n\\n')\n",
    "print('pertama')"
   ]
  },
  {
   "cell_type": "code",
   "execution_count": 11,
   "id": "ec0d6f0f",
   "metadata": {},
   "outputs": [
    {
     "name": "stdout",
     "output_type": "stream",
     "text": [
      "pemrograman\n"
     ]
    }
   ],
   "source": [
    "print('pengantar\\rpemrograman')"
   ]
  },
  {
   "cell_type": "code",
   "execution_count": 10,
   "id": "c0bbcfd0",
   "metadata": {},
   "outputs": [
    {
     "name": "stdout",
     "output_type": "stream",
     "text": [
      "5ULIAH\n"
     ]
    }
   ],
   "source": [
    "print('KULIAH\\r5')"
   ]
  },
  {
   "cell_type": "code",
   "execution_count": 12,
   "id": "d82952d9",
   "metadata": {},
   "outputs": [
    {
     "name": "stdout",
     "output_type": "stream",
     "text": [
      "Dunia\n"
     ]
    }
   ],
   "source": [
    "print('\\104\\165\\156\\151\\141')"
   ]
  }
 ],
 "metadata": {
  "kernelspec": {
   "display_name": "base",
   "language": "python",
   "name": "python3"
  },
  "language_info": {
   "codemirror_mode": {
    "name": "ipython",
    "version": 3
   },
   "file_extension": ".py",
   "mimetype": "text/x-python",
   "name": "python",
   "nbconvert_exporter": "python",
   "pygments_lexer": "ipython3",
   "version": "3.9.12"
  }
 },
 "nbformat": 4,
 "nbformat_minor": 5
}
